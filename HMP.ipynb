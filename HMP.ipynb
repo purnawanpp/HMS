{
  "cells": [
    {
      "cell_type": "markdown",
      "metadata": {
        "id": "view-in-github",
        "colab_type": "text"
      },
      "source": [
        "<a href=\"https://colab.research.google.com/github/purnawanpp/HMS/blob/main/HMP.ipynb\" target=\"_parent\"><img src=\"https://colab.research.google.com/assets/colab-badge.svg\" alt=\"Open In Colab\"/></a>"
      ]
    },
    {
      "cell_type": "markdown",
      "source": [
        "Hydrogen Mass Repartitioning"
      ],
      "metadata": {
        "id": "nCf3Lkr9mPs5"
      },
      "id": "nCf3Lkr9mPs5"
    },
    {
      "cell_type": "code",
      "source": [
        "!pip install parmed"
      ],
      "metadata": {
        "id": "hQta60dmkOnQ",
        "outputId": "4b4f9162-ac9c-4dca-d71d-12b5e33e99de",
        "colab": {
          "base_uri": "https://localhost:8080/"
        }
      },
      "id": "hQta60dmkOnQ",
      "execution_count": null,
      "outputs": [
        {
          "output_type": "stream",
          "name": "stdout",
          "text": [
            "Looking in indexes: https://pypi.org/simple, https://us-python.pkg.dev/colab-wheels/public/simple/\n",
            "Collecting parmed\n",
            "  Downloading ParmEd-4.0.0.tar.gz (2.3 MB)\n",
            "\u001b[2K     \u001b[90m━━━━━━━━━━━━━━━━━━━━━━━━━━━━━━━━━━━━━━━━\u001b[0m \u001b[32m2.3/2.3 MB\u001b[0m \u001b[31m19.5 MB/s\u001b[0m eta \u001b[36m0:00:00\u001b[0m\n",
            "\u001b[?25h  Preparing metadata (setup.py) ... \u001b[?25l\u001b[?25hdone\n",
            "Building wheels for collected packages: parmed\n",
            "  Building wheel for parmed (setup.py) ... \u001b[?25l\u001b[?25hdone\n",
            "  Created wheel for parmed: filename=ParmEd-4.0.0-cp38-cp38-linux_x86_64.whl size=1535906 sha256=a861b410cebb24ebcccb06d2b2ac1a0b5989716047d594b8d6680941c441aa5f\n",
            "  Stored in directory: /root/.cache/pip/wheels/18/7a/fc/4a54030c3ce8b744ff314719c22fe49895b9a6837014d0087b\n",
            "Successfully built parmed\n",
            "Installing collected packages: parmed\n",
            "Successfully installed parmed-4.0.0\n"
          ]
        }
      ]
    },
    {
      "cell_type": "code",
      "source": [
        "import parmed as pmd\n",
        "\n",
        "print(pmd.__version__)"
      ],
      "metadata": {
        "colab": {
          "base_uri": "https://localhost:8080/"
        },
        "id": "tLZIvwW_gaWp",
        "outputId": "42d44004-74d8-4c72-8c34-23caf86583fd"
      },
      "id": "tLZIvwW_gaWp",
      "execution_count": null,
      "outputs": [
        {
          "output_type": "stream",
          "name": "stdout",
          "text": [
            "4.0.0\n"
          ]
        }
      ]
    },
    {
      "cell_type": "markdown",
      "source": [
        "The following command is for performing hydrogen mass repartitioning and saved in GROMACS format.\n"
      ],
      "metadata": {
        "id": "xCuDTUoflRM8"
      },
      "id": "xCuDTUoflRM8"
    },
    {
      "cell_type": "code",
      "source": [
        "import parmed as pmd\n",
        "from parmed import tools\n",
        "amber = pmd.load_file('/content/solvated.prmtop', '/content/solvated.inpcrd')\n",
        "pmd.tools.actions.HMassRepartition(amber)\n",
        "amber.save('gromacs.top')\n",
        "amber.save('gromacs.gro')"
      ],
      "metadata": {
        "id": "bJC1NodRbkgg"
      },
      "id": "bJC1NodRbkgg",
      "execution_count": null,
      "outputs": []
    }
  ],
  "metadata": {
    "kernelspec": {
      "display_name": "Python 3 (ipykernel)",
      "language": "python",
      "name": "python3"
    },
    "language_info": {
      "codemirror_mode": {
        "name": "ipython",
        "version": 3
      },
      "file_extension": ".py",
      "mimetype": "text/x-python",
      "name": "python",
      "nbconvert_exporter": "python",
      "pygments_lexer": "ipython3",
      "version": "3.9.13"
    },
    "colab": {
      "provenance": [],
      "include_colab_link": true
    }
  },
  "nbformat": 4,
  "nbformat_minor": 5
}